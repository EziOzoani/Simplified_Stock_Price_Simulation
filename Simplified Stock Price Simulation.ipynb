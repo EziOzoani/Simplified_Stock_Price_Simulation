{
 "cells": [
  {
   "cell_type": "code",
   "execution_count": 1,
   "metadata": {},
   "outputs": [],
   "source": [
    "import yfinance as yf # get stock prices\n",
    "import numpy as np # for calcautions and to create random numebers \n",
    "import matplotlib.pyplot as plt # for visualising results "
   ]
  },
  {
   "cell_type": "markdown",
   "metadata": {},
   "source": [
    "Note: This is highly simplified, i.e making simpllifying assumtipions.\n",
    "\n",
    "    E.g Not applying geometric brownian motion\n",
    "    \n",
    "    It is not a perfect simutlation model "
   ]
  },
  {
   "cell_type": "code",
   "execution_count": 5,
   "metadata": {},
   "outputs": [
    {
     "name": "stdout",
     "output_type": "stream",
     "text": [
      "[*********************100%***********************]  1 of 1 completed\n"
     ]
    },
    {
     "data": {
      "text/html": [
       "<div>\n",
       "<style scoped>\n",
       "    .dataframe tbody tr th:only-of-type {\n",
       "        vertical-align: middle;\n",
       "    }\n",
       "\n",
       "    .dataframe tbody tr th {\n",
       "        vertical-align: top;\n",
       "    }\n",
       "\n",
       "    .dataframe thead th {\n",
       "        text-align: right;\n",
       "    }\n",
       "</style>\n",
       "<table border=\"1\" class=\"dataframe\">\n",
       "  <thead>\n",
       "    <tr style=\"text-align: right;\">\n",
       "      <th></th>\n",
       "      <th>Open</th>\n",
       "      <th>High</th>\n",
       "      <th>Low</th>\n",
       "      <th>Close</th>\n",
       "      <th>Adj Close</th>\n",
       "      <th>Volume</th>\n",
       "    </tr>\n",
       "    <tr>\n",
       "      <th>Date</th>\n",
       "      <th></th>\n",
       "      <th></th>\n",
       "      <th></th>\n",
       "      <th></th>\n",
       "      <th></th>\n",
       "      <th></th>\n",
       "    </tr>\n",
       "  </thead>\n",
       "  <tbody>\n",
       "    <tr>\n",
       "      <th>2010-06-29</th>\n",
       "      <td>3.800000</td>\n",
       "      <td>5.000000</td>\n",
       "      <td>3.508000</td>\n",
       "      <td>4.778000</td>\n",
       "      <td>4.778000</td>\n",
       "      <td>93831500</td>\n",
       "    </tr>\n",
       "    <tr>\n",
       "      <th>2010-06-30</th>\n",
       "      <td>5.158000</td>\n",
       "      <td>6.084000</td>\n",
       "      <td>4.660000</td>\n",
       "      <td>4.766000</td>\n",
       "      <td>4.766000</td>\n",
       "      <td>85935500</td>\n",
       "    </tr>\n",
       "    <tr>\n",
       "      <th>2010-07-01</th>\n",
       "      <td>5.000000</td>\n",
       "      <td>5.184000</td>\n",
       "      <td>4.054000</td>\n",
       "      <td>4.392000</td>\n",
       "      <td>4.392000</td>\n",
       "      <td>41094000</td>\n",
       "    </tr>\n",
       "    <tr>\n",
       "      <th>2010-07-02</th>\n",
       "      <td>4.600000</td>\n",
       "      <td>4.620000</td>\n",
       "      <td>3.742000</td>\n",
       "      <td>3.840000</td>\n",
       "      <td>3.840000</td>\n",
       "      <td>25699000</td>\n",
       "    </tr>\n",
       "    <tr>\n",
       "      <th>2010-07-06</th>\n",
       "      <td>4.000000</td>\n",
       "      <td>4.000000</td>\n",
       "      <td>3.166000</td>\n",
       "      <td>3.222000</td>\n",
       "      <td>3.222000</td>\n",
       "      <td>34334500</td>\n",
       "    </tr>\n",
       "    <tr>\n",
       "      <th>...</th>\n",
       "      <td>...</td>\n",
       "      <td>...</td>\n",
       "      <td>...</td>\n",
       "      <td>...</td>\n",
       "      <td>...</td>\n",
       "      <td>...</td>\n",
       "    </tr>\n",
       "    <tr>\n",
       "      <th>2021-02-08</th>\n",
       "      <td>869.669983</td>\n",
       "      <td>877.770020</td>\n",
       "      <td>854.750000</td>\n",
       "      <td>863.419983</td>\n",
       "      <td>863.419983</td>\n",
       "      <td>20161700</td>\n",
       "    </tr>\n",
       "    <tr>\n",
       "      <th>2021-02-09</th>\n",
       "      <td>855.119995</td>\n",
       "      <td>859.799988</td>\n",
       "      <td>841.750000</td>\n",
       "      <td>849.460022</td>\n",
       "      <td>849.460022</td>\n",
       "      <td>15157700</td>\n",
       "    </tr>\n",
       "    <tr>\n",
       "      <th>2021-02-10</th>\n",
       "      <td>843.640015</td>\n",
       "      <td>844.820007</td>\n",
       "      <td>800.020020</td>\n",
       "      <td>804.820007</td>\n",
       "      <td>804.820007</td>\n",
       "      <td>36216100</td>\n",
       "    </tr>\n",
       "    <tr>\n",
       "      <th>2021-02-11</th>\n",
       "      <td>812.440002</td>\n",
       "      <td>829.880005</td>\n",
       "      <td>801.729980</td>\n",
       "      <td>811.659973</td>\n",
       "      <td>811.659973</td>\n",
       "      <td>21580700</td>\n",
       "    </tr>\n",
       "    <tr>\n",
       "      <th>2021-02-12</th>\n",
       "      <td>801.260010</td>\n",
       "      <td>817.330017</td>\n",
       "      <td>785.330017</td>\n",
       "      <td>816.119995</td>\n",
       "      <td>816.119995</td>\n",
       "      <td>23701700</td>\n",
       "    </tr>\n",
       "  </tbody>\n",
       "</table>\n",
       "<p>2676 rows × 6 columns</p>\n",
       "</div>"
      ],
      "text/plain": [
       "                  Open        High         Low       Close   Adj Close  \\\n",
       "Date                                                                     \n",
       "2010-06-29    3.800000    5.000000    3.508000    4.778000    4.778000   \n",
       "2010-06-30    5.158000    6.084000    4.660000    4.766000    4.766000   \n",
       "2010-07-01    5.000000    5.184000    4.054000    4.392000    4.392000   \n",
       "2010-07-02    4.600000    4.620000    3.742000    3.840000    3.840000   \n",
       "2010-07-06    4.000000    4.000000    3.166000    3.222000    3.222000   \n",
       "...                ...         ...         ...         ...         ...   \n",
       "2021-02-08  869.669983  877.770020  854.750000  863.419983  863.419983   \n",
       "2021-02-09  855.119995  859.799988  841.750000  849.460022  849.460022   \n",
       "2021-02-10  843.640015  844.820007  800.020020  804.820007  804.820007   \n",
       "2021-02-11  812.440002  829.880005  801.729980  811.659973  811.659973   \n",
       "2021-02-12  801.260010  817.330017  785.330017  816.119995  816.119995   \n",
       "\n",
       "              Volume  \n",
       "Date                  \n",
       "2010-06-29  93831500  \n",
       "2010-06-30  85935500  \n",
       "2010-07-01  41094000  \n",
       "2010-07-02  25699000  \n",
       "2010-07-06  34334500  \n",
       "...              ...  \n",
       "2021-02-08  20161700  \n",
       "2021-02-09  15157700  \n",
       "2021-02-10  36216100  \n",
       "2021-02-11  21580700  \n",
       "2021-02-12  23701700  \n",
       "\n",
       "[2676 rows x 6 columns]"
      ]
     },
     "execution_count": 5,
     "metadata": {},
     "output_type": "execute_result"
    }
   ],
   "source": [
    "# get stock, and will retrun a datafram with information\n",
    "yf.download(\"TSLA\")  # take any stock "
   ]
  },
  {
   "cell_type": "code",
   "execution_count": 2,
   "metadata": {},
   "outputs": [
    {
     "name": "stdout",
     "output_type": "stream",
     "text": [
      "[*********************100%***********************]  1 of 1 completed\n"
     ]
    }
   ],
   "source": [
    "df = yf.download(\"TSLA\") # store in dataframe variable \n",
    "\n",
    "# only interested in the adjusted close price\n"
   ]
  },
  {
   "cell_type": "markdown",
   "metadata": {},
   "source": [
    "# Now we will calculate returns\n",
    " Need returns to define parameters for random function \n",
    " \n",
    " Random Function : Based on a normal distribution \n",
    "      \n",
    "      Parameters: μ --> mean return of tesla \n",
    "                  Sigma --> retruns σ\n"
   ]
  },
  {
   "cell_type": "code",
   "execution_count": 5,
   "metadata": {},
   "outputs": [],
   "source": [
    "returns = np.log(1+ df['Adj Close'].pct_change())\n",
    "# log(): to normalise returns\n",
    "# pct_chaneg() : for daily retruns "
   ]
  },
  {
   "cell_type": "code",
   "execution_count": 6,
   "metadata": {},
   "outputs": [
    {
     "data": {
      "text/plain": [
       "Date\n",
       "2010-06-29         NaN\n",
       "2010-06-30   -0.002515\n",
       "2010-07-01   -0.081723\n",
       "2010-07-02   -0.134312\n",
       "2010-07-06   -0.175470\n",
       "                ...   \n",
       "2021-02-08    0.013045\n",
       "2021-02-09   -0.016300\n",
       "2021-02-10   -0.053982\n",
       "2021-02-11    0.008463\n",
       "2021-02-12    0.005480\n",
       "Name: Adj Close, Length: 2676, dtype: float64"
      ]
     },
     "execution_count": 6,
     "metadata": {},
     "output_type": "execute_result"
    }
   ],
   "source": [
    "returns"
   ]
  },
  {
   "cell_type": "code",
   "execution_count": 11,
   "metadata": {},
   "outputs": [],
   "source": [
    "mu, sigma = returns.mean(), returns.std()"
   ]
  },
  {
   "cell_type": "code",
   "execution_count": null,
   "metadata": {},
   "outputs": [],
   "source": [
    "#Now we will create random numbers out of a normal distribution "
   ]
  },
  {
   "cell_type": "code",
   "execution_count": 10,
   "metadata": {},
   "outputs": [
    {
     "data": {
      "text/plain": [
       "-0.032279238066371126"
      ]
     },
     "execution_count": 10,
     "metadata": {},
     "output_type": "execute_result"
    }
   ],
   "source": [
    "np.random.normal(mu,sigma)"
   ]
  },
  {
   "cell_type": "code",
   "execution_count": null,
   "metadata": {},
   "outputs": [],
   "source": [
    "# To get more than one day into the future\n",
    "#Specify number of days\n",
    "# e.g np.random.normal(mu,sigma, 252) --> 252, is the number of trading\n",
    "# days in a year\n",
    "# return: an array contianing simulated returns\n"
   ]
  },
  {
   "cell_type": "code",
   "execution_count": 12,
   "metadata": {},
   "outputs": [
    {
     "data": {
      "text/plain": [
       "array([-7.04296445e-02, -4.46487848e-02,  2.62892805e-02, -1.53431182e-02,\n",
       "        1.51352643e-02,  3.22618294e-02,  5.87923652e-02,  1.03665848e-02,\n",
       "        2.45371689e-02,  5.36665541e-02,  8.75727911e-02,  3.47414913e-02,\n",
       "        3.72213269e-02, -4.63111103e-02, -6.14524823e-02, -1.79316158e-02,\n",
       "       -5.45294864e-03,  8.91442897e-03, -9.77758340e-03, -5.16186683e-03,\n",
       "       -8.77028911e-02, -3.28491239e-02,  2.20144760e-02, -4.26470056e-03,\n",
       "       -2.10387125e-02, -2.72730618e-02,  1.64466345e-02,  6.11129523e-02,\n",
       "        8.46727954e-04,  2.27713576e-02,  1.86529032e-03, -7.06260229e-02,\n",
       "       -2.55900105e-02,  3.66030284e-03, -2.53165314e-02, -1.86549654e-02,\n",
       "       -2.87919413e-02, -7.77652314e-03, -4.47889315e-03,  1.81605968e-02,\n",
       "       -1.02757555e-02, -2.41371806e-02, -4.23044407e-02,  5.34714716e-02,\n",
       "        2.93245433e-03,  4.82187073e-03, -5.19901689e-02,  6.78146521e-02,\n",
       "        1.38349881e-03, -1.26175623e-02,  7.58521901e-02, -7.97140887e-03,\n",
       "        5.05533759e-02,  3.79454952e-02, -1.68515801e-02,  3.41153979e-02,\n",
       "        5.32807935e-02,  5.85933622e-04,  5.77733664e-02,  2.00541174e-02,\n",
       "       -7.81178782e-02,  3.05224140e-02,  1.62047177e-02,  9.18639779e-03,\n",
       "       -5.27818272e-02,  3.34474631e-02, -1.77715197e-02,  3.23005279e-02,\n",
       "        1.46288090e-02, -1.74724140e-03, -3.65335988e-02, -7.60386109e-03,\n",
       "       -2.20169564e-03,  5.20970089e-02,  2.87223130e-03,  9.80495449e-03,\n",
       "       -2.78161584e-03, -2.22692670e-02,  1.15164388e-02,  3.19744851e-03,\n",
       "       -2.46000503e-02, -2.93701487e-02,  2.63303523e-04, -2.30178534e-02,\n",
       "       -7.49204412e-03, -2.14863232e-02, -1.75761205e-02, -4.60189201e-02,\n",
       "        2.74873963e-02, -6.24703731e-02,  2.76852689e-02,  2.12848692e-02,\n",
       "       -2.58706427e-03, -4.90030187e-02, -2.58661098e-02,  4.03008138e-02,\n",
       "        4.15592902e-02, -3.11869717e-02,  4.71632224e-03,  3.44698342e-02,\n",
       "        4.01374769e-02,  3.40115968e-02,  1.87110162e-02,  2.67642516e-02,\n",
       "        9.86740659e-03,  2.10072031e-02, -1.13610101e-02, -1.61219293e-02,\n",
       "        5.81548581e-02, -1.19749683e-02, -6.12510934e-02,  4.71889050e-02,\n",
       "       -3.37351932e-02,  2.95408013e-03, -8.69066865e-03,  4.10573235e-02,\n",
       "        5.28918030e-03,  3.00357186e-02,  7.66334951e-02, -1.84244701e-03,\n",
       "        4.50262834e-02, -3.43583574e-02,  6.85490682e-03,  5.94335749e-02,\n",
       "       -9.72809625e-03,  1.08245980e-02,  8.43973553e-03, -6.16543512e-02,\n",
       "       -4.84186707e-02,  5.36559034e-02,  9.72105078e-02, -1.34031876e-02,\n",
       "       -1.34635347e-02,  9.36700921e-03,  2.13736301e-02, -3.98002422e-03,\n",
       "        5.94411583e-02,  3.05598524e-03, -4.77212034e-02,  6.34836108e-02,\n",
       "       -8.86906913e-03,  6.78171032e-02,  4.40357121e-02,  2.08177754e-02,\n",
       "        3.48282517e-03,  1.60635953e-02, -1.54652587e-02,  3.30373239e-02,\n",
       "        7.05914306e-03,  8.34724908e-03,  4.40672026e-02,  6.82911919e-03,\n",
       "        2.29113144e-02,  2.96190948e-03, -3.48991523e-02,  4.74357545e-02,\n",
       "       -1.54592998e-02, -1.22464306e-02,  1.96105161e-02, -1.62391742e-02,\n",
       "       -1.70915873e-02, -4.00256239e-03, -8.12361336e-03, -3.87607735e-02,\n",
       "        1.48202488e-02, -1.64946633e-02, -1.29361380e-02, -1.72140835e-05,\n",
       "        1.95173059e-02,  4.45554651e-02,  2.02672182e-02, -5.35233668e-02,\n",
       "        2.68977872e-02, -9.84020445e-02,  1.71023037e-02, -4.48090369e-02,\n",
       "        1.62842928e-03, -1.35765180e-02,  2.41147336e-02,  2.69589773e-02,\n",
       "        5.70286007e-02, -2.22881286e-02,  1.35326712e-03,  4.71075158e-03,\n",
       "        4.12182523e-02,  2.73560456e-02, -3.90479408e-02,  2.80474517e-02,\n",
       "        1.12831245e-02, -3.36149549e-02, -2.48264257e-02,  7.11884804e-02,\n",
       "        4.94220883e-02,  5.03642845e-03,  3.02688563e-02,  1.35282021e-03,\n",
       "        6.67796112e-02, -8.11175587e-02, -4.67144080e-02,  1.72281093e-02,\n",
       "       -4.44962187e-02,  2.21237602e-02, -3.59340114e-02,  2.20450874e-02,\n",
       "       -2.58409351e-02, -2.75032672e-02,  6.45820912e-03,  4.01314914e-02,\n",
       "        2.41713353e-02,  9.15417728e-03,  2.52318707e-02, -2.81806575e-02,\n",
       "        9.81468093e-03, -6.59123976e-02, -8.96619455e-03,  6.88091826e-03,\n",
       "        8.52134402e-02, -3.22938124e-02, -5.24115548e-02, -2.83365015e-02,\n",
       "       -1.80777729e-02,  4.27847913e-02, -3.66806630e-02,  6.77424709e-02,\n",
       "       -1.04809206e-02,  1.45828631e-02,  2.14833071e-02, -1.18368630e-02,\n",
       "        2.04144492e-02, -1.72063598e-02,  3.22235996e-02,  2.66074417e-02,\n",
       "        2.32854795e-02, -1.14042619e-02,  1.80338182e-02,  5.11849727e-02,\n",
       "       -5.93279413e-03,  4.07851558e-02, -6.57167102e-03,  1.60531758e-02,\n",
       "       -5.87279281e-02,  4.46595221e-02,  5.99521494e-02, -3.08531767e-02,\n",
       "       -3.08897414e-02,  5.09076040e-03, -2.64341919e-02,  2.70395981e-02,\n",
       "        4.22849238e-03, -3.82215913e-03, -3.07364642e-02,  2.71934157e-02,\n",
       "       -5.21212433e-02])"
      ]
     },
     "execution_count": 12,
     "metadata": {},
     "output_type": "execute_result"
    }
   ],
   "source": [
    " np.random.normal(mu,sigma, 253)"
   ]
  },
  {
   "cell_type": "code",
   "execution_count": 13,
   "metadata": {},
   "outputs": [],
   "source": [
    " sim_ret= np.random.normal(mu,sigma, 253) "
   ]
  },
  {
   "cell_type": "markdown",
   "metadata": {},
   "source": [
    "# Get prices\n",
    " We need intial price --> take the most recent price of tesla\n"
   ]
  },
  {
   "cell_type": "code",
   "execution_count": 15,
   "metadata": {},
   "outputs": [
    {
     "data": {
      "text/html": [
       "<div>\n",
       "<style scoped>\n",
       "    .dataframe tbody tr th:only-of-type {\n",
       "        vertical-align: middle;\n",
       "    }\n",
       "\n",
       "    .dataframe tbody tr th {\n",
       "        vertical-align: top;\n",
       "    }\n",
       "\n",
       "    .dataframe thead th {\n",
       "        text-align: right;\n",
       "    }\n",
       "</style>\n",
       "<table border=\"1\" class=\"dataframe\">\n",
       "  <thead>\n",
       "    <tr style=\"text-align: right;\">\n",
       "      <th></th>\n",
       "      <th>Open</th>\n",
       "      <th>High</th>\n",
       "      <th>Low</th>\n",
       "      <th>Close</th>\n",
       "      <th>Adj Close</th>\n",
       "      <th>Volume</th>\n",
       "    </tr>\n",
       "    <tr>\n",
       "      <th>Date</th>\n",
       "      <th></th>\n",
       "      <th></th>\n",
       "      <th></th>\n",
       "      <th></th>\n",
       "      <th></th>\n",
       "      <th></th>\n",
       "    </tr>\n",
       "  </thead>\n",
       "  <tbody>\n",
       "    <tr>\n",
       "      <th>2010-06-29</th>\n",
       "      <td>3.800000</td>\n",
       "      <td>5.000000</td>\n",
       "      <td>3.508000</td>\n",
       "      <td>4.778000</td>\n",
       "      <td>4.778000</td>\n",
       "      <td>93831500</td>\n",
       "    </tr>\n",
       "    <tr>\n",
       "      <th>2010-06-30</th>\n",
       "      <td>5.158000</td>\n",
       "      <td>6.084000</td>\n",
       "      <td>4.660000</td>\n",
       "      <td>4.766000</td>\n",
       "      <td>4.766000</td>\n",
       "      <td>85935500</td>\n",
       "    </tr>\n",
       "    <tr>\n",
       "      <th>2010-07-01</th>\n",
       "      <td>5.000000</td>\n",
       "      <td>5.184000</td>\n",
       "      <td>4.054000</td>\n",
       "      <td>4.392000</td>\n",
       "      <td>4.392000</td>\n",
       "      <td>41094000</td>\n",
       "    </tr>\n",
       "    <tr>\n",
       "      <th>2010-07-02</th>\n",
       "      <td>4.600000</td>\n",
       "      <td>4.620000</td>\n",
       "      <td>3.742000</td>\n",
       "      <td>3.840000</td>\n",
       "      <td>3.840000</td>\n",
       "      <td>25699000</td>\n",
       "    </tr>\n",
       "    <tr>\n",
       "      <th>2010-07-06</th>\n",
       "      <td>4.000000</td>\n",
       "      <td>4.000000</td>\n",
       "      <td>3.166000</td>\n",
       "      <td>3.222000</td>\n",
       "      <td>3.222000</td>\n",
       "      <td>34334500</td>\n",
       "    </tr>\n",
       "    <tr>\n",
       "      <th>...</th>\n",
       "      <td>...</td>\n",
       "      <td>...</td>\n",
       "      <td>...</td>\n",
       "      <td>...</td>\n",
       "      <td>...</td>\n",
       "      <td>...</td>\n",
       "    </tr>\n",
       "    <tr>\n",
       "      <th>2021-02-08</th>\n",
       "      <td>869.669983</td>\n",
       "      <td>877.770020</td>\n",
       "      <td>854.750000</td>\n",
       "      <td>863.419983</td>\n",
       "      <td>863.419983</td>\n",
       "      <td>20161700</td>\n",
       "    </tr>\n",
       "    <tr>\n",
       "      <th>2021-02-09</th>\n",
       "      <td>855.119995</td>\n",
       "      <td>859.799988</td>\n",
       "      <td>841.750000</td>\n",
       "      <td>849.460022</td>\n",
       "      <td>849.460022</td>\n",
       "      <td>15157700</td>\n",
       "    </tr>\n",
       "    <tr>\n",
       "      <th>2021-02-10</th>\n",
       "      <td>843.640015</td>\n",
       "      <td>844.820007</td>\n",
       "      <td>800.020020</td>\n",
       "      <td>804.820007</td>\n",
       "      <td>804.820007</td>\n",
       "      <td>36216100</td>\n",
       "    </tr>\n",
       "    <tr>\n",
       "      <th>2021-02-11</th>\n",
       "      <td>812.440002</td>\n",
       "      <td>829.880005</td>\n",
       "      <td>801.729980</td>\n",
       "      <td>811.659973</td>\n",
       "      <td>811.659973</td>\n",
       "      <td>21580700</td>\n",
       "    </tr>\n",
       "    <tr>\n",
       "      <th>2021-02-12</th>\n",
       "      <td>801.260010</td>\n",
       "      <td>817.330017</td>\n",
       "      <td>785.330017</td>\n",
       "      <td>816.119995</td>\n",
       "      <td>816.119995</td>\n",
       "      <td>23701700</td>\n",
       "    </tr>\n",
       "  </tbody>\n",
       "</table>\n",
       "<p>2676 rows × 6 columns</p>\n",
       "</div>"
      ],
      "text/plain": [
       "                  Open        High         Low       Close   Adj Close  \\\n",
       "Date                                                                     \n",
       "2010-06-29    3.800000    5.000000    3.508000    4.778000    4.778000   \n",
       "2010-06-30    5.158000    6.084000    4.660000    4.766000    4.766000   \n",
       "2010-07-01    5.000000    5.184000    4.054000    4.392000    4.392000   \n",
       "2010-07-02    4.600000    4.620000    3.742000    3.840000    3.840000   \n",
       "2010-07-06    4.000000    4.000000    3.166000    3.222000    3.222000   \n",
       "...                ...         ...         ...         ...         ...   \n",
       "2021-02-08  869.669983  877.770020  854.750000  863.419983  863.419983   \n",
       "2021-02-09  855.119995  859.799988  841.750000  849.460022  849.460022   \n",
       "2021-02-10  843.640015  844.820007  800.020020  804.820007  804.820007   \n",
       "2021-02-11  812.440002  829.880005  801.729980  811.659973  811.659973   \n",
       "2021-02-12  801.260010  817.330017  785.330017  816.119995  816.119995   \n",
       "\n",
       "              Volume  \n",
       "Date                  \n",
       "2010-06-29  93831500  \n",
       "2010-06-30  85935500  \n",
       "2010-07-01  41094000  \n",
       "2010-07-02  25699000  \n",
       "2010-07-06  34334500  \n",
       "...              ...  \n",
       "2021-02-08  20161700  \n",
       "2021-02-09  15157700  \n",
       "2021-02-10  36216100  \n",
       "2021-02-11  21580700  \n",
       "2021-02-12  23701700  \n",
       "\n",
       "[2676 rows x 6 columns]"
      ]
     },
     "execution_count": 15,
     "metadata": {},
     "output_type": "execute_result"
    }
   ],
   "source": [
    "df"
   ]
  },
  {
   "cell_type": "code",
   "execution_count": 16,
   "metadata": {},
   "outputs": [],
   "source": [
    "initial_price = df['Adj Close'].iloc[-1] # get very last row in the column "
   ]
  },
  {
   "cell_type": "markdown",
   "metadata": {},
   "source": [
    "# Calculate Prices\n",
    "Generetes prices of tesla\n",
    "\n",
    "last figure--> simutled price of tesla in one year\n",
    " \n",
    " first figure --> simulated price the next day"
   ]
  },
  {
   "cell_type": "code",
   "execution_count": 18,
   "metadata": {},
   "outputs": [
    {
     "data": {
      "text/plain": [
       "array([ 813.39574248,  803.66040033,  828.56257307,  802.05339594,\n",
       "        809.73360727,  771.08933556,  752.53111718,  731.98150322,\n",
       "        757.03544559,  768.43837593,  772.01430033,  759.27498584,\n",
       "        758.55424402,  777.81096808,  753.9367388 ,  778.63899953,\n",
       "        769.86238899,  762.28019127,  811.5626006 ,  846.59143517,\n",
       "        842.4779476 ,  785.5309094 ,  748.4439494 ,  753.04693339,\n",
       "        780.49685422,  763.37380898,  758.73653466,  764.73400593,\n",
       "        759.28143702,  782.41967385,  785.28083305,  727.61928257,\n",
       "        698.83893191,  690.65214343,  695.11775032,  672.96517533,\n",
       "        636.67572744,  641.25780605,  652.31301161,  622.74371393,\n",
       "        622.8657247 ,  633.37316294,  648.01420103,  651.34851761,\n",
       "        664.81181679,  692.65345303,  632.77339213,  632.08937286,\n",
       "        629.54232842,  611.58553075,  637.29998172,  588.06477046,\n",
       "        571.66932496,  583.2334562 ,  580.73453569,  598.80616216,\n",
       "        594.02282271,  590.00888969,  615.95150098,  634.44665974,\n",
       "        629.08469327,  633.17956698,  625.44983017,  644.40581054,\n",
       "        676.38840346,  687.7520312 ,  632.00329763,  631.35110489,\n",
       "        667.41928126,  664.48351297,  662.97397228,  652.58039492,\n",
       "        652.44020359,  684.76960642,  713.07010355,  724.51378537,\n",
       "        708.03395658,  663.21075047,  691.65913611,  634.34315684,\n",
       "        650.76268183,  658.4524312 ,  676.78781272,  732.2361347 ,\n",
       "        732.84752663,  784.17862853,  798.77205173,  771.2838339 ,\n",
       "        779.09633485,  794.38745583,  814.64239352,  785.39426768,\n",
       "        763.12335711,  770.001306  ,  817.94974654,  837.25375422,\n",
       "        841.64918512,  848.879045  ,  846.74445573,  866.93788609,\n",
       "        872.50945956,  897.62016112,  889.45403301,  888.37205403,\n",
       "        865.40818471,  865.81486657,  849.14453922,  856.19077144,\n",
       "        870.68677025,  874.1043564 ,  893.34582723,  864.83934303,\n",
       "        880.55869876,  920.36825403,  869.56770487,  873.79259581,\n",
       "        864.72852254,  862.17356876,  871.73501061,  891.00782857,\n",
       "        899.27585728,  928.70982125,  933.43542849,  920.12783106,\n",
       "        944.80544959,  894.98516075,  892.84487645,  896.70368693,\n",
       "        880.35535533,  905.77470456,  900.78163487,  895.47512331,\n",
       "        876.9954228 ,  877.86601006,  897.07630704,  962.00833018,\n",
       "        940.27150634,  964.85209408,  947.69600898,  956.01656328,\n",
       "       1020.85875457, 1070.42933969, 1080.73388617, 1124.78812507,\n",
       "       1090.78979369, 1106.05376512, 1191.73903081, 1145.84979141,\n",
       "       1118.49030137, 1145.47720977, 1148.23792394, 1077.37562527,\n",
       "       1123.69288107, 1038.54754584, 1005.78297752,  912.09343911,\n",
       "        956.06746635,  886.65211198,  896.78304581,  920.25495736,\n",
       "        864.52729539,  857.96220982,  888.4737873 ,  909.43335508,\n",
       "        867.54487612,  914.46466392,  908.88698192,  840.91808526,\n",
       "        822.12661352,  841.17472808,  860.95914529,  839.37457972,\n",
       "        896.60391344,  959.29752392,  993.73267915,  945.49355152,\n",
       "        950.10539932,  950.56106045, 1022.63403457,  968.88873368,\n",
       "        977.53939799,  979.36597235,  994.33246843,  917.43712377,\n",
       "        913.22828186,  896.03086989,  920.43660634,  938.48896225,\n",
       "        962.33450451,  928.37388874,  979.7423829 ,  993.22362089,\n",
       "        934.16438061,  955.36221394,  957.81303807,  942.81240067,\n",
       "        975.4533775 ,  945.09461629,  918.90639829,  928.23478247,\n",
       "        883.50031428,  899.14316148,  864.98207132,  888.50866502,\n",
       "        817.16499214,  827.45177671,  798.35087599,  766.86343859,\n",
       "        744.09534946,  777.57773555,  801.3850574 ,  787.7385608 ,\n",
       "        784.85114676,  775.38223485,  758.10262928,  774.76259635,\n",
       "        801.82216216,  825.84564669,  790.69325582,  771.75356901,\n",
       "        827.89088709,  814.92302347,  813.69539673,  840.70062575,\n",
       "        804.5066989 ,  803.71766895,  778.28777696,  802.09434343,\n",
       "        793.45615219,  758.94542443,  778.03001991,  814.3285884 ,\n",
       "        816.77362615,  825.66316704,  862.15535147,  910.28609035,\n",
       "        891.47594299,  887.7489896 ,  903.55586248,  951.92714406,\n",
       "        915.45441684,  895.25285351,  911.39291458,  890.48672401,\n",
       "        913.75360674,  949.88388439,  980.83961061,  897.88843727,\n",
       "        880.86178231,  917.99296213,  992.41958063, 1028.01495865,\n",
       "       1044.86168339])"
      ]
     },
     "execution_count": 18,
     "metadata": {},
     "output_type": "execute_result"
    }
   ],
   "source": [
    "\n",
    "initial_price * (sim_ret +1).cumprod() #cuprod() :cumlated product"
   ]
  },
  {
   "cell_type": "code",
   "execution_count": 19,
   "metadata": {},
   "outputs": [],
   "source": [
    "sim_prices= initial_price * (sim_ret +1).cumprod()"
   ]
  },
  {
   "cell_type": "markdown",
   "metadata": {},
   "source": [
    "# Visualisations"
   ]
  },
  {
   "cell_type": "code",
   "execution_count": 20,
   "metadata": {},
   "outputs": [
    {
     "data": {
      "text/plain": [
       "[<matplotlib.lines.Line2D at 0x7fbe5c04eb50>]"
      ]
     },
     "execution_count": 20,
     "metadata": {},
     "output_type": "execute_result"
    },
    {
     "data": {
      "image/png": "[encoded data removed]",
      "text/plain": [
       "<Figure size 432x288 with 1 Axes>"
      ]
     },
     "metadata": {
      "needs_background": "light"
     },
     "output_type": "display_data"
    }
   ],
   "source": [
    "# ren walk of telsa prices of the nect 252 trading days\n",
    "# visualisations will change with new random number \n",
    "plt.plot(sim_prices) "
   ]
  },
  {
   "cell_type": "code",
   "execution_count": 23,
   "metadata": {},
   "outputs": [
    {
     "data": {
      "image/png": "[encoded data removed]",
      "text/plain": [
       "<Figure size 432x288 with 1 Axes>"
      ]
     },
     "metadata": {
      "needs_background": "light"
     },
     "output_type": "display_data"
    }
   ],
   "source": [
    "for i in range(100):\n",
    "    sim_ret= np.random.normal(mu,sigma, 253)\n",
    "    sim_prices= initial_price * (sim_ret +1).cumprod()\n",
    "    plt.axhline(initial_price,c='k')\n",
    "    plt.plot(sim_prices)\n",
    "    \n",
    "# get simulated stock price in 252 trading days \n",
    "# horizontal blcak line is our reference price --> initial stock price "
   ]
  },
  {
   "cell_type": "code",
   "execution_count": null,
   "metadata": {},
   "outputs": [],
   "source": []
  },
  {
   "cell_type": "code",
   "execution_count": null,
   "metadata": {},
   "outputs": [],
   "source": []
  }
 ],
 "metadata": {
  "kernelspec": {
   "display_name": "Python 3",
   "language": "python",
   "name": "python3"
  },
  "language_info": {
   "codemirror_mode": {
    "name": "ipython",
    "version": 3
   },
   "file_extension": ".py",
   "mimetype": "text/x-python",
   "name": "python",
   "nbconvert_exporter": "python",
   "pygments_lexer": "ipython3",
   "version": "3.7.6"
  }
 },
 "nbformat": 4,
 "nbformat_minor": 4
}
